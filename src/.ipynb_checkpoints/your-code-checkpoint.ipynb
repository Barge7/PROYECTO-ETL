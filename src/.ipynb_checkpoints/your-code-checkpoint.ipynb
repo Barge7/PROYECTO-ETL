{
 "cells": [
  {
   "cell_type": "code",
   "execution_count": 62,
   "id": "9aab636f",
   "metadata": {},
   "outputs": [],
   "source": [
    "import pandas as pd\n",
    "pd.set_option('display.max_columns', None)\n",
    "import warnings\n",
    "warnings.filterwarnings('ignore')\n",
    "import time\n",
    "from tqdm import tqdm\n",
    "from IPython.display import Image\n",
    "import regex as re\n",
    "from IPython.core.display import display,HTML\n",
    "from joblib import Parallel, delayed"
   ]
  },
  {
   "cell_type": "code",
   "execution_count": 2,
   "id": "82b5492a",
   "metadata": {},
   "outputs": [
    {
     "name": "stderr",
     "output_type": "stream",
     "text": [
      "[WDM] - Downloading: 100%|████████████████████████████████████████████████████████| 6.46M/6.46M [00:00<00:00, 37.2MB/s]\n"
     ]
    }
   ],
   "source": [
    "from selenium import webdriver\n",
    "from selenium.webdriver.common.by import By\n",
    "from webdriver_manager.chrome import ChromeDriverManager\n",
    "PATH=ChromeDriverManager().install()"
   ]
  },
  {
   "cell_type": "code",
   "execution_count": null,
   "id": "f59a8c2c",
   "metadata": {},
   "outputs": [],
   "source": [
    "# EL REFUGIO"
   ]
  },
  {
   "cell_type": "code",
   "execution_count": 3,
   "id": "5a959b42",
   "metadata": {},
   "outputs": [
    {
     "name": "stderr",
     "output_type": "stream",
     "text": [
      "100%|██████████████████████████████████████████████████████████████████████████████████| 72/72 [00:38<00:00,  1.86it/s]\n"
     ]
    }
   ],
   "source": [
    "url = 'https://elrefugio.org/adopta/perros'\n",
    "driver=webdriver.Chrome(PATH) \n",
    "driver.get(url)\n",
    "time.sleep(3)\n",
    "\n",
    "muchos=driver.find_elements(By.CLASS_NAME, 'item')\n",
    "uno = [e.find_element(By.TAG_NAME, 'a') for e in muchos]\n",
    "links = [e.get_attribute('href') for e in uno]\n",
    "\n",
    "imagen=[]\n",
    "nombres= []\n",
    "carac= []\n",
    "protectora=[]\n",
    "for e in tqdm(links):\n",
    "    protectora.append(1)\n",
    "    driver.get(e)\n",
    "    box = driver.find_element(By.CLASS_NAME, 'boxSlideFotos')\n",
    "    img = box.find_element(By.TAG_NAME, 'img')\n",
    "    imagen.append(img.get_attribute('src'))\n",
    "    desc = driver.find_element(By.CLASS_NAME, 'txtDoble')\n",
    "    nombres.append(desc.find_element(By.TAG_NAME, 'h1').text)\n",
    "    todo = desc.find_elements(By.TAG_NAME, 'li')\n",
    "    for i in todo:\n",
    "        i = i.text\n",
    "        i = i.split(':')\n",
    "        i.pop(0)\n",
    "        carac += i\n",
    "        \n",
    "driver.quit()\n",
    "\n",
    "n = 6\n",
    "caracter = [carac[i:i + n] for i in range(0, len(carac), n)]"
   ]
  },
  {
   "cell_type": "code",
   "execution_count": 5,
   "id": "9f9496ca",
   "metadata": {},
   "outputs": [],
   "source": [
    "colnames= ['SEXO', 'EDAD', 'NACIMIENTO', 'RAZA', 'TAMAÑO', 'CARACTER']\n",
    "perros = pd.DataFrame(caracter, columns=colnames)\n",
    "\n",
    "perros['NOMBRE']= nombres\n",
    "perros['PROTECTORA']= protectora\n",
    "\n",
    "sexo= []\n",
    "for e in perros.SEXO:\n",
    "    e = e.lower()\n",
    "    e= e.strip()\n",
    "    sexo.append(e)\n",
    "perros['SEXO']= sexo\n",
    "\n",
    "edad= []\n",
    "for e in perros.EDAD:\n",
    "    e = e.lower()\n",
    "    e= e.strip()\n",
    "    edad.append((re.findall('[a-z]+', e)[0]))\n",
    "perros['EDAD']= edad\n",
    "\n",
    "raza= []\n",
    "for e in perros.RAZA:\n",
    "    e = e.lower()\n",
    "    e= e.strip()\n",
    "    raza.append(e)\n",
    "perros['RAZA']= raza\n",
    "\n",
    "tam= []\n",
    "for e in perros.TAMAÑO:\n",
    "    e = e.lower()\n",
    "    e= e.strip()\n",
    "    tam.append(e)\n",
    "perros['TAMAÑO']= tam\n",
    "\n",
    "car= []\n",
    "for e in perros.CARACTER:\n",
    "    e = e.lower()\n",
    "    e= e.strip()\n",
    "    car.append(e)\n",
    "perros['CARACTER']= car\n",
    "\n",
    "nom= []\n",
    "for e in perros.NOMBRE:\n",
    "    e = e.capitalize()\n",
    "    e= e.strip()\n",
    "    nom.append(e)\n",
    "perros['NOMBRE']= nom\n",
    "\n",
    "nac= []\n",
    "for e in perros.NACIMIENTO:\n",
    "    e= e.strip()\n",
    "    nac.append(e)\n",
    "perros['NACIMIENTO']= nac\n",
    "# perros['NACIMIENTO'] = perros['NACIMIENTO'].astype('datetime64[ns]')\n",
    "\n",
    "\n",
    "\n",
    "images1 = imagen\n",
    "perros['FOTO'] = images1\n",
    "\n",
    "# convert your links to html tags \n",
    "def path_to_image_html(path):\n",
    "    return '<img src=\"'+ path + '\" width=\"60\" >'\n",
    "\n",
    "pd.set_option('display.max_colwidth', None)\n",
    "\n",
    "image_cols = ['FOTO']  #<- define which columns will be used to convert to html\n",
    "\n",
    "# Create the dictionariy to be passed as formatters\n",
    "format_dict = {}\n",
    "for e in image_cols:\n",
    "    format_dict[e] = path_to_image_html\n",
    "\n",
    "\n",
    "#display(HTML(perros.to_html(escape=False ,formatters=format_dict)))\n",
    "\n",
    "\n"
   ]
  },
  {
   "cell_type": "code",
   "execution_count": 6,
   "id": "befaa346",
   "metadata": {},
   "outputs": [
    {
     "data": {
      "text/plain": [
       "0      cariñoso\n",
       "1        tímida\n",
       "2      cariñoso\n",
       "3        tímido\n",
       "4     tranquilo\n",
       "        ...    \n",
       "67       tímido\n",
       "68       activa\n",
       "69       tímido\n",
       "70     cariñoso\n",
       "71    simpático\n",
       "Name: CARACTER, Length: 72, dtype: object"
      ]
     },
     "execution_count": 6,
     "metadata": {},
     "output_type": "execute_result"
    }
   ],
   "source": [
    "images1 = imagen\n",
    "\n",
    "perros['FOTO'] = images1\n",
    "\n",
    "\n",
    "# convert your links to html tags \n",
    "def path_to_image_html(path):\n",
    "    return '<img src=\"'+ path + '\" width=\"60\" >'\n",
    "\n",
    "pd.set_option('display.max_colwidth', None)\n",
    "\n",
    "image_cols = ['FOTO']  #<- define which columns will be used to convert to html\n",
    "\n",
    "# Create the dictionariy to be passed as formatters\n",
    "format_dict = {}\n",
    "for e in image_cols:\n",
    "    format_dict[e] = path_to_image_html\n",
    "#display(HTML(perros.to_html(escape=False ,formatters=format_dict)))\n",
    "\n",
    "\n",
    "perros.RAZA.replace({'galga': 'galgo', 'mestiza': 'mestizo'})\n",
    "perros.TAMAÑO.replace({'medio': 'mediano', 'mediana': 'mediano'})\n",
    "perros.CARACTER.replace({'muy cariñosa': 'cariñosa', 'timida': 'tímida'}).head()"
   ]
  },
  {
   "cell_type": "code",
   "execution_count": 7,
   "id": "e9de98fd",
   "metadata": {},
   "outputs": [],
   "source": [
    "colnames= ('ID', 'NOMBRE', 'UBICACION', 'CONTACTO')\n",
    "protectora = pd.DataFrame(columns=colnames)\n",
    "elrefugio= {'ID': 1, 'NOMBRE': 'El Refugio', 'UBICACION': 'MADRID', 'CONTACTO': '(+34) 91 730 3680'}\n",
    "protectora = protectora.append(elrefugio, ignore_index = True)"
   ]
  },
  {
   "cell_type": "code",
   "execution_count": null,
   "id": "461176cc",
   "metadata": {},
   "outputs": [],
   "source": []
  },
  {
   "cell_type": "code",
   "execution_count": null,
   "id": "cca26223",
   "metadata": {},
   "outputs": [],
   "source": [
    "# ACUNR"
   ]
  },
  {
   "cell_type": "code",
   "execution_count": 77,
   "id": "ce852a95",
   "metadata": {},
   "outputs": [
    {
     "name": "stderr",
     "output_type": "stream",
     "text": [
      "100%|████████████████████████████████████████████████████████████████████████████████████| 5/5 [00:00<00:00,  5.24it/s]\n",
      "100%|██████████████████████████████████████████████████████████████████████████████████| 52/52 [02:54<00:00,  3.35s/it]\n"
     ]
    }
   ],
   "source": [
    "url = 'https://www.acunr.es/perros/'\n",
    "driver=webdriver.Chrome(PATH) \n",
    "driver.get(url)\n",
    "\n",
    "links= []\n",
    "\n",
    "for e in tqdm(range(5)):\n",
    "    muchos = driver.find_element(By.CLASS_NAME, 'col-lg-12')\n",
    "    uno = muchos.find_elements(By.TAG_NAME, 'a')\n",
    "    links += (e.get_attribute('href') for e in uno)\n",
    "    otra = driver.find_element(By.XPATH, '//*[@id=\"main\"]/ul[1]/li[8]/a')\n",
    "    otra.click()\n",
    "'''\n",
    "ESTO NO LO PONGO DENTRO DEL BUCLE PORQUE ES LA ULTIMA PAG\n",
    "SI LO PONGO DENTRO DEL BUCLE, INTENTA DAR A CLICK Y ME DA ERROR\n",
    "PORQUE NO HAY OTRA PAG\n",
    "'''\n",
    "muchos = driver.find_element(By.CLASS_NAME, 'col-lg-12')\n",
    "uno = muchos.find_elements(By.TAG_NAME, 'a')\n",
    "links += [e.get_attribute('href') for e in uno]\n",
    "\n",
    "\n",
    "links2= []\n",
    "for e in range(len(links)):\n",
    "    if e % 2:\n",
    "        links2.append(links[e])\n",
    "    else:\n",
    "        pass\n",
    "    \n",
    "    \n",
    "\n",
    "imagen=[]\n",
    "nombres= []\n",
    "carac= []\n",
    "protectora=[]\n",
    "for e in tqdm(links2):\n",
    "    try:\n",
    "        protectora.append(2) \n",
    "        driver.get(e)\n",
    "        time.sleep(0.2)\n",
    "        nombres.append(driver.find_element(By.TAG_NAME, 'h2').text)\n",
    "        box = driver.find_element(By.CLASS_NAME, 'col-lg-12')\n",
    "        img= box.find_element(By.TAG_NAME, 'img')\n",
    "        imagen.append(img.get_attribute('src'))\n",
    "        desc = box.find_elements(By.CLASS_NAME, 'card-text')\n",
    "        for i in desc:\n",
    "            i = i.text\n",
    "            i = i.split(':')\n",
    "            i.pop(0)\n",
    "            carac += i\n",
    "    \n",
    "    except:\n",
    "        print(e)\n",
    "\n",
    "driver.quit()"
   ]
  },
  {
   "cell_type": "code",
   "execution_count": 75,
   "id": "e6a08495",
   "metadata": {},
   "outputs": [],
   "source": [
    "'''\n",
    "ESTE CODIGO TARDA MÁS QUE SI VA UNO POR UNO, \n",
    "ASÍ QUE NO LO VOY A USAR\n",
    "\n",
    "\n",
    "url = 'https://www.acunr.es/perros/'\n",
    "driver=webdriver.Chrome(PATH) \n",
    "driver.get(url)\n",
    "\n",
    "links= []\n",
    "\n",
    "for e in tqdm(range(5)):\n",
    "    perros = driver.find_element(By.CLASS_NAME, 'col-lg-12')\n",
    "    perro = perros.find_elements(By.TAG_NAME, 'a')\n",
    "    links += (e.get_attribute('href') for e in perro)\n",
    "    otra = driver.find_element(By.XPATH, '//*[@id=\"main\"]/ul[1]/li[8]/a')\n",
    "    otra.click()\n",
    "perros = driver.find_element(By.CLASS_NAME, 'col-lg-12')\n",
    "perro = perros.find_elements(By.TAG_NAME, 'a')\n",
    "links += [e.get_attribute('href') for e in perro]\n",
    "\n",
    "\n",
    "links2= []\n",
    "for e in range(len(links)):\n",
    "    if e % 2:\n",
    "        links2.append(links[e])\n",
    "    else:\n",
    "        pass\n",
    "\n",
    "\n",
    "def extraer(url):\n",
    "    imagen=[]\n",
    "    nombres= []\n",
    "    carac= []\n",
    "    protectora=[]\n",
    "    try:\n",
    "        protectora.append(2)\n",
    "        driver=webdriver.Chrome(PATH) \n",
    "        driver.get(e)\n",
    "        nombres.append(driver.find_element(By.TAG_NAME, 'h2').text)\n",
    "        box = driver.find_element(By.CLASS_NAME, 'col-lg-12')\n",
    "        img= box.find_element(By.TAG_NAME, 'img')\n",
    "        imagen.append(img.get_attribute('src'))\n",
    "        desc = box.find_elements(By.CLASS_NAME, 'card-text')\n",
    "        for i in desc:\n",
    "            i = i.text\n",
    "            i = i.split(':')\n",
    "            i.pop(0)\n",
    "            carac += i\n",
    "\n",
    "    except:\n",
    "        print(e)\n",
    "\n",
    "    driver.quit()\n",
    "    \n",
    "    return 'all right'\n",
    "\n",
    "all_right=Parallel(n_jobs=3, verbose=True)(delayed(extraer)(url) for url in tqdm(links2))\n",
    "'''"
   ]
  },
  {
   "cell_type": "code",
   "execution_count": 79,
   "id": "330bf6b5",
   "metadata": {},
   "outputs": [
    {
     "data": {
      "text/plain": [
       "<selenium.webdriver.remote.webelement.WebElement (session=\"b38c6d3afe050dc0177127f15563be96\", element=\"a6c8adda-c719-466a-8fb8-69b70c549d3b\")>"
      ]
     },
     "execution_count": 79,
     "metadata": {},
     "output_type": "execute_result"
    }
   ],
   "source": [
    "perros"
   ]
  },
  {
   "cell_type": "code",
   "execution_count": null,
   "id": "7d0cc3e3",
   "metadata": {},
   "outputs": [],
   "source": []
  }
 ],
 "metadata": {
  "kernelspec": {
   "display_name": "Python 3 (ipykernel)",
   "language": "python",
   "name": "python3"
  },
  "language_info": {
   "codemirror_mode": {
    "name": "ipython",
    "version": 3
   },
   "file_extension": ".py",
   "mimetype": "text/x-python",
   "name": "python",
   "nbconvert_exporter": "python",
   "pygments_lexer": "ipython3",
   "version": "3.9.12"
  }
 },
 "nbformat": 4,
 "nbformat_minor": 5
}
