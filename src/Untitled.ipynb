{
 "cells": [
  {
   "cell_type": "code",
   "execution_count": 1,
   "id": "9aab636f",
   "metadata": {},
   "outputs": [],
   "source": [
    "import pandas as pd\n",
    "pd.set_option('display.max_columns', None)\n",
    "import warnings\n",
    "warnings.filterwarnings('ignore')\n",
    "import time\n",
    "from tqdm import tqdm\n",
    "from IPython.display import Image\n",
    "import regex as re\n",
    "from IPython.core.display import display,HTML"
   ]
  },
  {
   "cell_type": "code",
   "execution_count": 2,
   "id": "82b5492a",
   "metadata": {},
   "outputs": [],
   "source": [
    "from selenium import webdriver\n",
    "from selenium.webdriver.common.by import By\n",
    "from webdriver_manager.chrome import ChromeDriverManager\n",
    "PATH=ChromeDriverManager().install()"
   ]
  },
  {
   "cell_type": "code",
   "execution_count": 82,
   "id": "5a959b42",
   "metadata": {},
   "outputs": [
    {
     "name": "stderr",
     "output_type": "stream",
     "text": [
      "100%|██████████████████████████████████████████████████████████████████████████████████| 72/72 [00:47<00:00,  1.53it/s]\n"
     ]
    }
   ],
   "source": [
    "url = 'https://elrefugio.org/adopta/perros'\n",
    "PATH=ChromeDriverManager().install()\n",
    "driver=webdriver.Chrome(PATH) \n",
    "driver.get(url)\n",
    "time.sleep(3)\n",
    "\n",
    "perros=driver.find_elements(By.CLASS_NAME, 'item')\n",
    "perro = [e.find_element(By.TAG_NAME, 'a') for e in perros]\n",
    "links = [e.get_attribute('href') for e in perro]\n",
    "\n",
    "imagen=[]\n",
    "nombres= []\n",
    "carac= []\n",
    "protectora=[]\n",
    "for e in tqdm(links):\n",
    "    protectora.append(1)\n",
    "    driver.get(e)\n",
    "    box = driver.find_element(By.CLASS_NAME, 'boxSlideFotos')\n",
    "    img = box.find_element(By.TAG_NAME, 'img')\n",
    "    imagen.append(img.get_attribute('src'))\n",
    "    desc = driver.find_element(By.CLASS_NAME, 'txtDoble')\n",
    "    nombres.append(desc.find_element(By.TAG_NAME, 'h1').text)\n",
    "    todo = desc.find_elements(By.TAG_NAME, 'li')\n",
    "    for i in todo:\n",
    "        i = i.text\n",
    "        i = i.split(':')\n",
    "        i.pop(0)\n",
    "        carac += i\n",
    "        \n",
    "driver.quit()\n",
    "\n",
    "n = 6\n",
    "caracter = [carac[i:i + n] for i in range(0, len(carac), n)]"
   ]
  },
  {
   "cell_type": "code",
   "execution_count": 87,
   "id": "88de7326",
   "metadata": {},
   "outputs": [],
   "source": [
    "# n = 6\n",
    "# caracter = [carac[i:i + n] for i in range(0, len(carac), n)]\n"
   ]
  },
  {
   "cell_type": "code",
   "execution_count": 88,
   "id": "9f9496ca",
   "metadata": {},
   "outputs": [],
   "source": [
    "colnames= ['SEXO', 'EDAD', 'NACIMIENTO', 'RAZA', 'TAMAÑO', 'CARACTER']\n",
    "perros = pd.DataFrame(caracter, columns=colnames)\n",
    "\n",
    "perros['NOMBRE']= nombres\n",
    "perros['PROTECTORA']= protectora\n",
    "\n",
    "sexo= []\n",
    "for e in perros.SEXO:\n",
    "    e = e.lower()\n",
    "    e= e.strip()\n",
    "    sexo.append(e)\n",
    "perros['SEXO']= sexo\n",
    "\n",
    "edad= []\n",
    "for e in perros.EDAD:\n",
    "    e = e.lower()\n",
    "    e= e.strip()\n",
    "    edad.append((re.findall('[a-z]+', e)[0]))\n",
    "perros['EDAD']= edad\n",
    "\n",
    "raza= []\n",
    "for e in perros.RAZA:\n",
    "    e = e.lower()\n",
    "    e= e.strip()\n",
    "    raza.append(e)\n",
    "perros['RAZA']= raza\n",
    "\n",
    "tam= []\n",
    "for e in perros.TAMAÑO:\n",
    "    e = e.lower()\n",
    "    e= e.strip()\n",
    "    tam.append(e)\n",
    "perros['TAMAÑO']= tam\n",
    "\n",
    "car= []\n",
    "for e in perros.CARACTER:\n",
    "    e = e.lower()\n",
    "    e= e.strip()\n",
    "    car.append(e)\n",
    "perros['CARACTER']= car\n",
    "\n",
    "nom= []\n",
    "for e in perros.NOMBRE:\n",
    "    e = e.capitalize()\n",
    "    e= e.strip()\n",
    "    nom.append(e)\n",
    "perros['NOMBRE']= nom\n",
    "\n",
    "nac= []\n",
    "for e in perros.NACIMIENTO:\n",
    "    e= e.strip()\n",
    "    nac.append(e)\n",
    "perros['NACIMIENTO']= nac\n",
    "# perros['NACIMIENTO'] = perros['NACIMIENTO'].astype('datetime64[ns]')\n",
    "\n",
    "\n",
    "\n",
    "images1 = imagen\n",
    "perros['FOTO'] = images1\n",
    "\n",
    "# convert your links to html tags \n",
    "def path_to_image_html(path):\n",
    "    return '<img src=\"'+ path + '\" width=\"60\" >'\n",
    "\n",
    "pd.set_option('display.max_colwidth', None)\n",
    "\n",
    "image_cols = ['FOTO']  #<- define which columns will be used to convert to html\n",
    "\n",
    "# Create the dictionariy to be passed as formatters\n",
    "format_dict = {}\n",
    "for e in image_cols:\n",
    "    format_dict[e] = path_to_image_html\n",
    "\n",
    "\n",
    "#display(HTML(perros.to_html(escape=False ,formatters=format_dict)))\n",
    "\n",
    "\n"
   ]
  },
  {
   "cell_type": "code",
   "execution_count": 126,
   "id": "befaa346",
   "metadata": {},
   "outputs": [],
   "source": [
    "images1 = imagen\n",
    "\n",
    "perros['FOTO'] = images1\n",
    "\n",
    "\n",
    "# convert your links to html tags \n",
    "def path_to_image_html(path):\n",
    "    return '<img src=\"'+ path + '\" width=\"60\" >'\n",
    "\n",
    "pd.set_option('display.max_colwidth', None)\n",
    "\n",
    "image_cols = ['FOTO']  #<- define which columns will be used to convert to html\n",
    "\n",
    "# Create the dictionariy to be passed as formatters\n",
    "format_dict = {}\n",
    "for e in image_cols:\n",
    "    format_dict[e] = path_to_image_html\n",
    "#display(HTML(perros.to_html(escape=False ,formatters=format_dict)))\n",
    "\n",
    "\n",
    "perros.RAZA.replace({'galga': 'galgo', 'mestiza': 'mestizo'})\n",
    "perros.TAMAÑO.replace({'medio': 'mediano', 'mediana': 'mediano'})\n",
    "perros.CARACTER.replace({'muy cariñosa': 'cariñosa', 'timida': 'tímida'})"
   ]
  },
  {
   "cell_type": "code",
   "execution_count": 106,
   "id": "e9de98fd",
   "metadata": {},
   "outputs": [],
   "source": [
    "colnames= ('ID', 'NOMBRE', 'UBICACION', 'CONTACTO')\n",
    "protectora = pd.DataFrame(columns=colnames)\n",
    "elrefugio= {'ID': 1, 'NOMBRE': 'El Refugio', 'UBICACION': 'MADRID', 'CONTACTO': '(+34) 91 730 3680'}\n",
    "protectora = protectora.append(elrefugio, ignore_index = True)"
   ]
  },
  {
   "cell_type": "code",
   "execution_count": null,
   "id": "461176cc",
   "metadata": {},
   "outputs": [],
   "source": []
  },
  {
   "cell_type": "code",
   "execution_count": null,
   "id": "7c46204a",
   "metadata": {},
   "outputs": [],
   "source": []
  },
  {
   "cell_type": "code",
   "execution_count": 167,
   "id": "ac8f5984",
   "metadata": {},
   "outputs": [],
   "source": [
    "url = 'https://www.acunr.es/perros/'\n",
    "PATH=ChromeDriverManager().install()\n",
    "driver=webdriver.Chrome(PATH) \n",
    "driver.get(url)\n",
    "time.sleep(3)"
   ]
  },
  {
   "cell_type": "code",
   "execution_count": 200,
   "id": "ce852a95",
   "metadata": {},
   "outputs": [
    {
     "name": "stderr",
     "output_type": "stream",
     "text": [
      "100%|████████████████████████████████████████████████████████████████████████████████████| 5/5 [00:05<00:00,  1.08s/it]\n"
     ]
    }
   ],
   "source": [
    "url = 'https://www.acunr.es/perros/'\n",
    "PATH=ChromeDriverManager().install()\n",
    "driver=webdriver.Chrome(PATH) \n",
    "driver.get(url)\n",
    "\n",
    "links= []\n",
    "\n",
    "for e in tqdm(range(5)):\n",
    "    perros = driver.find_element(By.CLASS_NAME, 'col-lg-12')\n",
    "    perro = perros.find_elements(By.TAG_NAME, 'a')\n",
    "    links += (e.get_attribute('href') for e in perro)\n",
    "    otra = driver.find_element(By.XPATH, '//*[@id=\"main\"]/ul[1]/li[8]/a')\n",
    "    otra.click()\n",
    "perros = driver.find_element(By.CLASS_NAME, 'col-lg-12')\n",
    "perro = perros.find_elements(By.TAG_NAME, 'a')\n",
    "links += [e.get_attribute('href') for e in perro]\n",
    "\n",
    "driver.quit()\n",
    "\n",
    "links2= []\n",
    "for e in range(len(links)):\n",
    "    if e % 2:\n",
    "        links2.append(links[e])\n",
    "    else:\n",
    "        pass\n"
   ]
  },
  {
   "cell_type": "code",
   "execution_count": 209,
   "id": "e27cb6f0",
   "metadata": {},
   "outputs": [
    {
     "data": {
      "text/plain": [
       "52"
      ]
     },
     "execution_count": 209,
     "metadata": {},
     "output_type": "execute_result"
    }
   ],
   "source": [
    "len(links2)"
   ]
  },
  {
   "cell_type": "code",
   "execution_count": 210,
   "id": "285dfc50",
   "metadata": {},
   "outputs": [
    {
     "data": {
      "text/plain": [
       "'https://www.acunr.es/ficha-perros/?id=30&idGaleria=36'"
      ]
     },
     "execution_count": 210,
     "metadata": {},
     "output_type": "execute_result"
    }
   ],
   "source": [
    "links2[0]"
   ]
  },
  {
   "cell_type": "code",
   "execution_count": 129,
   "id": "7865aeb6",
   "metadata": {},
   "outputs": [
    {
     "data": {
      "text/plain": [
       "['https://www.acunr.es/ficha-perros/?id=30&idGaleria=36']"
      ]
     },
     "execution_count": 129,
     "metadata": {},
     "output_type": "execute_result"
    }
   ],
   "source": [
    "# imagen=[]\n",
    "# nombres= []\n",
    "# carac= []\n",
    "# protectora=[]\n",
    "# for e in tqdm(links2):\n",
    "#     protectora.append(1)\n",
    "#     driver.get(e)\n",
    "#     box = driver.find_element(By.CLASS_NAME, 'boxSlideFotos')\n",
    "#     img = box.find_element(By.TAG_NAME, 'img')\n",
    "#     imagen.append(img.get_attribute('src'))\n",
    "#     desc = driver.find_element(By.CLASS_NAME, 'txtDoble')\n",
    "#     nombres.append(desc.find_element(By.TAG_NAME, 'h1').text)\n",
    "#     todo = desc.find_elements(By.TAG_NAME, 'li')\n",
    "#     for i in todo:\n",
    "#         i = i.text\n",
    "#         i = i.split(':')\n",
    "#         i.pop(0)\n",
    "#         carac += i\n",
    "        \n",
    "# driver.quit()"
   ]
  }
 ],
 "metadata": {
  "kernelspec": {
   "display_name": "Python 3 (ipykernel)",
   "language": "python",
   "name": "python3"
  },
  "language_info": {
   "codemirror_mode": {
    "name": "ipython",
    "version": 3
   },
   "file_extension": ".py",
   "mimetype": "text/x-python",
   "name": "python",
   "nbconvert_exporter": "python",
   "pygments_lexer": "ipython3",
   "version": "3.9.12"
  }
 },
 "nbformat": 4,
 "nbformat_minor": 5
}
